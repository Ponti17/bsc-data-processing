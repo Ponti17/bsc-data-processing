{
 "cells": [
  {
   "cell_type": "code",
   "execution_count": 15,
   "metadata": {},
   "outputs": [],
   "source": [
    "import pandas as pd\n",
    "import numpy as np\n",
    "import matplotlib.pyplot as plt\n",
    "import os\n",
    "from _handledata import DataHandler\n",
    "from _handledata_pmos import DataHandler_P\n",
    "from _plot import Plot"
   ]
  },
  {
   "cell_type": "code",
   "execution_count": 16,
   "metadata": {},
   "outputs": [
    {
     "name": "stderr",
     "output_type": "stream",
     "text": [
      "C:\\Users\\techu\\AppData\\Local\\Temp\\ipykernel_21348\\217246303.py:38: DeprecationWarning: Conversion of an array with ndim > 0 to a scalar is deprecated, and will error in future. Ensure you extract a single element from your array before performing this operation. (Deprecated NumPy 1.25.)\n",
      "  vals_nmos[\"pole\"].append(\"{:.2e}\".format(float(pole)))\n",
      "C:\\Users\\techu\\AppData\\Local\\Temp\\ipykernel_21348\\217246303.py:39: DeprecationWarning: Conversion of an array with ndim > 0 to a scalar is deprecated, and will error in future. Ensure you extract a single element from your array before performing this operation. (Deprecated NumPy 1.25.)\n",
      "  vals_nmos[\"w\"].append(\"{:.2e}\".format(float(w)))\n"
     ]
    }
   ],
   "source": [
    "reader = DataHandler()\n",
    "mos = Plot()\n",
    "\n",
    "reader.load(\"nch\")\n",
    "\n",
    "id = 1.12e-6\n",
    "gateL = 20\n",
    "vdsrc = 0.3\n",
    "fp = 1.2e3 * 1000\n",
    "mos.setgateL(gateL)\n",
    "mos.setvdsrc(vdsrc)\n",
    "gmid_arr    = reader.get_axis(\"gmoverid\", mos.getvdsrc(), mos.getgateL())\n",
    "ft_arr      = reader.get_axis(\"ft\", mos.getvdsrc(), mos.getgateL())\n",
    "idw_arr     = reader.get_axis(\"id/w\", mos.getvdsrc(), mos.getgateL())\n",
    "gmro_arr     = reader.get_axis(\"id/w\", mos.getvdsrc(), mos.getgateL())\n",
    "\n",
    "vals_nmos = {\n",
    "    \"gmid\": [],\n",
    "    \"pole\": [],\n",
    "    \"w\": [],\n",
    "    \"ro\": []\n",
    "}\n",
    "for gmid in range(5, 26):\n",
    "    gm = gmid * id\n",
    "    for i in range(0, len(gmid_arr)):\n",
    "        if gmid_arr[i] < gmid:\n",
    "            gmid_true = gmid_arr[i]\n",
    "            ft = ft_arr[i]\n",
    "            idw = idw_arr[i]\n",
    "            gmro = gmro_arr[i]\n",
    "            ro = gmro / gm\n",
    "            break\n",
    "    cgg = 2*(gm / (2*np.pi*ft))\n",
    "    pole = gm / (2*np.pi*cgg)\n",
    "    w = id / idw\n",
    "    vals_nmos[\"gmid\"].append(gmid_true)\n",
    "    vals_nmos[\"ro\"].append(ro)\n",
    "    vals_nmos[\"pole\"].append(\"{:.2e}\".format(float(pole)))\n",
    "    vals_nmos[\"w\"].append(\"{:.2e}\".format(float(w)))"
   ]
  },
  {
   "cell_type": "code",
   "execution_count": 17,
   "metadata": {},
   "outputs": [
    {
     "name": "stderr",
     "output_type": "stream",
     "text": [
      "C:\\Users\\techu\\AppData\\Local\\Temp\\ipykernel_21348\\94155105.py:38: DeprecationWarning: Conversion of an array with ndim > 0 to a scalar is deprecated, and will error in future. Ensure you extract a single element from your array before performing this operation. (Deprecated NumPy 1.25.)\n",
      "  vals_nmos2[\"pole\"].append(\"{:.2e}\".format(float(pole)))\n",
      "C:\\Users\\techu\\AppData\\Local\\Temp\\ipykernel_21348\\94155105.py:39: DeprecationWarning: Conversion of an array with ndim > 0 to a scalar is deprecated, and will error in future. Ensure you extract a single element from your array before performing this operation. (Deprecated NumPy 1.25.)\n",
      "  vals_nmos2[\"w\"].append(\"{:.2e}\".format(float(w)))\n"
     ]
    }
   ],
   "source": [
    "reader = DataHandler()\n",
    "mos = Plot()\n",
    "\n",
    "reader.load(\"nch\")\n",
    "\n",
    "id = 1.12e-6\n",
    "gateL = 5\n",
    "vdsrc = 0.3\n",
    "fp = 1.2e3 * 1000\n",
    "mos.setgateL(gateL)\n",
    "mos.setvdsrc(vdsrc)\n",
    "gmid_arr    = reader.get_axis(\"gmoverid\", mos.getvdsrc(), mos.getgateL())\n",
    "ft_arr      = reader.get_axis(\"ft\", mos.getvdsrc(), mos.getgateL())\n",
    "idw_arr     = reader.get_axis(\"id/w\", mos.getvdsrc(), mos.getgateL())\n",
    "gmro_arr     = reader.get_axis(\"id/w\", mos.getvdsrc(), mos.getgateL())\n",
    "\n",
    "vals_nmos2 = {\n",
    "    \"gmid\": [],\n",
    "    \"pole\": [],\n",
    "    \"w\": [],\n",
    "    \"ro\": []\n",
    "}\n",
    "for gmid in range(5, 26):\n",
    "    gm = gmid * id\n",
    "    for i in range(0, len(gmid_arr)):\n",
    "        if gmid_arr[i] < gmid:\n",
    "            gmid_true = gmid_arr[i]\n",
    "            ft = ft_arr[i]\n",
    "            idw = idw_arr[i]\n",
    "            gmro = gmro_arr[i]\n",
    "            ro = gmro / gm\n",
    "            break\n",
    "    cgg = 2*(gm / (2*np.pi*ft))\n",
    "    pole = gm / (2*np.pi*cgg)\n",
    "    w = id / idw\n",
    "    vals_nmos2[\"gmid\"].append(gmid_true)\n",
    "    vals_nmos2[\"ro\"].append(ro)\n",
    "    vals_nmos2[\"pole\"].append(\"{:.2e}\".format(float(pole)))\n",
    "    vals_nmos2[\"w\"].append(\"{:.2e}\".format(float(w)))"
   ]
  },
  {
   "cell_type": "code",
   "execution_count": 18,
   "metadata": {},
   "outputs": [
    {
     "name": "stderr",
     "output_type": "stream",
     "text": [
      "C:\\Users\\techu\\AppData\\Local\\Temp\\ipykernel_21348\\2474418560.py:38: DeprecationWarning: Conversion of an array with ndim > 0 to a scalar is deprecated, and will error in future. Ensure you extract a single element from your array before performing this operation. (Deprecated NumPy 1.25.)\n",
      "  vals_pmos[\"pole\"].append(\"{:.2e}\".format(float(pole)))\n",
      "C:\\Users\\techu\\AppData\\Local\\Temp\\ipykernel_21348\\2474418560.py:39: DeprecationWarning: Conversion of an array with ndim > 0 to a scalar is deprecated, and will error in future. Ensure you extract a single element from your array before performing this operation. (Deprecated NumPy 1.25.)\n",
      "  vals_pmos[\"w\"].append(\"{:.2e}\".format(float(w)))\n"
     ]
    }
   ],
   "source": [
    "reader = DataHandler_P()\n",
    "mos = Plot()\n",
    "\n",
    "reader.load(\"pch\")\n",
    "\n",
    "id = 1.12e-6\n",
    "gateL = 20\n",
    "vdsrc = 0.3\n",
    "fp = 1.2e3 * 1000\n",
    "mos.setgateL(gateL)\n",
    "mos.setvdsrc(vdsrc)\n",
    "gmid_arr    = reader.get_axis(\"gmoverid\", mos.getvdsrc(), mos.getgateL())\n",
    "ft_arr      = reader.get_axis(\"ft\", mos.getvdsrc(), mos.getgateL())\n",
    "idw_arr     = reader.get_axis(\"id/w\", mos.getvdsrc(), mos.getgateL())\n",
    "gmro_arr     = reader.get_axis(\"id/w\", mos.getvdsrc(), mos.getgateL())\n",
    "\n",
    "vals_pmos = {\n",
    "    \"gmid\": [],\n",
    "    \"pole\": [],\n",
    "    \"w\": [],\n",
    "    \"ro\": []\n",
    "}\n",
    "for gmid in range(5, 26):\n",
    "    gm = gmid * id\n",
    "    for i in range(0, len(gmid_arr)):\n",
    "        if gmid_arr[i] < gmid:\n",
    "            gmid_true = gmid_arr[i]\n",
    "            ft = ft_arr[i]\n",
    "            idw = idw_arr[i]\n",
    "            gmro = gmro_arr[i]\n",
    "            ro = gmro / gm\n",
    "            break\n",
    "    cgg = 2*(gm / (2*np.pi*ft))\n",
    "    pole = gm / (2*np.pi*cgg)\n",
    "    w = id / idw\n",
    "    vals_pmos[\"gmid\"].append(gmid_true)\n",
    "    vals_pmos[\"ro\"].append(ro)\n",
    "    vals_pmos[\"pole\"].append(\"{:.2e}\".format(float(pole)))\n",
    "    vals_pmos[\"w\"].append(\"{:.2e}\".format(float(w)))"
   ]
  },
  {
   "cell_type": "code",
   "execution_count": 19,
   "metadata": {},
   "outputs": [
    {
     "name": "stderr",
     "output_type": "stream",
     "text": [
      "C:\\Users\\techu\\AppData\\Local\\Temp\\ipykernel_21348\\3974982166.py:38: DeprecationWarning: Conversion of an array with ndim > 0 to a scalar is deprecated, and will error in future. Ensure you extract a single element from your array before performing this operation. (Deprecated NumPy 1.25.)\n",
      "  vals_pmos2[\"pole\"].append(\"{:.2e}\".format(float(pole)))\n",
      "C:\\Users\\techu\\AppData\\Local\\Temp\\ipykernel_21348\\3974982166.py:39: DeprecationWarning: Conversion of an array with ndim > 0 to a scalar is deprecated, and will error in future. Ensure you extract a single element from your array before performing this operation. (Deprecated NumPy 1.25.)\n",
      "  vals_pmos2[\"w\"].append(\"{:.2e}\".format(float(w)))\n"
     ]
    }
   ],
   "source": [
    "reader = DataHandler_P()\n",
    "mos = Plot()\n",
    "\n",
    "reader.load(\"pch\")\n",
    "\n",
    "id = 1.12e-6\n",
    "gateL = 5\n",
    "vdsrc = 0.3\n",
    "fp = 1.2e3 * 1000\n",
    "mos.setgateL(gateL)\n",
    "mos.setvdsrc(vdsrc)\n",
    "gmid_arr    = reader.get_axis(\"gmoverid\", mos.getvdsrc(), mos.getgateL())\n",
    "ft_arr      = reader.get_axis(\"ft\", mos.getvdsrc(), mos.getgateL())\n",
    "idw_arr     = reader.get_axis(\"id/w\", mos.getvdsrc(), mos.getgateL())\n",
    "gmro_arr     = reader.get_axis(\"id/w\", mos.getvdsrc(), mos.getgateL())\n",
    "\n",
    "vals_pmos2 = {\n",
    "    \"gmid\": [],\n",
    "    \"pole\": [],\n",
    "    \"w\": [],\n",
    "    \"ro\": []\n",
    "}\n",
    "for gmid in range(5, 26):\n",
    "    gm = gmid * id\n",
    "    for i in range(0, len(gmid_arr)):\n",
    "        if gmid_arr[i] < gmid:\n",
    "            gmid_true = gmid_arr[i]\n",
    "            ft = ft_arr[i]\n",
    "            idw = idw_arr[i]\n",
    "            gmro = gmro_arr[i]\n",
    "            ro = gmro / gm\n",
    "            break\n",
    "    cgg = 2*(gm / (2*np.pi*ft))\n",
    "    pole = gm / (2*np.pi*cgg)\n",
    "    w = id / idw\n",
    "    vals_pmos2[\"gmid\"].append(gmid_true)\n",
    "    vals_pmos2[\"ro\"].append(ro)\n",
    "    vals_pmos2[\"pole\"].append(\"{:.2e}\".format(float(pole)))\n",
    "    vals_pmos2[\"w\"].append(\"{:.2e}\".format(float(w)))"
   ]
  },
  {
   "cell_type": "code",
   "execution_count": 23,
   "metadata": {},
   "outputs": [],
   "source": [
    "# M2 is upper cascode device\n",
    "def cascode(r1, r2, gm2):\n",
    "    return (1 + gm2 * r2) * r1 + r2\n",
    "\n",
    "for i in range(0, len(vals_nmos[\"ro\"])):\n",
    "    rO1 = vals_nmos[\"ro\"][i]\n",
    "    rO2 = vals_nmos2[\"ro\"][i]\n",
    "    gm2 = vals_nmos2[\"gmid\"][i] * id\n",
    "    rO3 = vals_pmos[\"ro\"][i]\n",
    "    rO4 = vals_pmos2[\"ro\"][i]\n",
    "    gm4 = vals_pmos2[\"gmid\"][i] * id\n",
    "    \n",
    "    rON = cascode(rO1, rO2, gm2)\n",
    "    rOP = cascode(rO3, rO4, gm4)\n",
    "    ROUT = rON * rOP / (rON + rOP)\n",
    "    print(\"gmid: {}\")"
   ]
  },
  {
   "cell_type": "code",
   "execution_count": null,
   "metadata": {},
   "outputs": [],
   "source": []
  }
 ],
 "metadata": {
  "kernelspec": {
   "display_name": "base",
   "language": "python",
   "name": "python3"
  },
  "language_info": {
   "codemirror_mode": {
    "name": "ipython",
    "version": 3
   },
   "file_extension": ".py",
   "mimetype": "text/x-python",
   "name": "python",
   "nbconvert_exporter": "python",
   "pygments_lexer": "ipython3",
   "version": "3.12.1"
  }
 },
 "nbformat": 4,
 "nbformat_minor": 2
}
