{
 "cells": [
  {
   "cell_type": "code",
   "execution_count": 2,
   "metadata": {},
   "outputs": [],
   "source": [
    "import pandas as pd\n",
    "import numpy as np\n",
    "import matplotlib.pyplot as plt\n",
    "import os\n",
    "from _handledata import DataHandler\n",
    "from _plot import Plot"
   ]
  },
  {
   "cell_type": "code",
   "execution_count": 17,
   "metadata": {},
   "outputs": [],
   "source": [
    "reader = DataHandler()\n",
    "\n",
    "Mn_casc_upper = Plot()\n",
    "Mn_casc_lower = Plot()\n",
    "Mp_casc_upper = Plot()\n",
    "Mp_casc_lower = Plot()\n",
    "M_in          = Plot()\n",
    "\n",
    "id = 2e-6\n",
    "\n",
    "Mn_casc_upper_gmid = 20\n",
    "Mn_casc_lower_gmid = 20\n",
    "Mp_casc_upper_gmid = 20\n",
    "Mp_casc_lower_gmid = 20\n",
    "M_in_gmid          = 20\n",
    "\n",
    "gmoverids = [Mn_casc_upper_gmid, Mn_casc_lower_gmid, Mp_casc_upper_gmid, Mp_casc_lower_gmid, M_in_gmid]\n",
    "\n",
    "reader.load(\"nch\")\n",
    "Mn_casc_upper.setgateL(1)\n",
    "Mn_casc_upper.setvdsrc(0.3)\n",
    "Mn_casc_upper_gmid_arr    = reader.get_axis(\"gmoverid\", Mn_casc_upper.getvdsrc(), Mn_casc_upper.getgateL())\n",
    "Mn_casc_upper_ft_arr      = reader.get_axis(\"ft\", Mn_casc_upper.getvdsrc(), Mn_casc_upper.getgateL())\n",
    "\n",
    "reader.load(\"nch\")\n",
    "Mn_casc_lower.setgateL(1)\n",
    "Mn_casc_lower.setvdsrc(0.3)\n",
    "Mn_casc_lower_gmid_arr    = reader.get_axis(\"gmoverid\", Mn_casc_lower.getvdsrc(), Mn_casc_lower.getgateL())\n",
    "Mn_casc_lower_ft_arr      = reader.get_axis(\"ft\", Mn_casc_lower.getvdsrc(), Mn_casc_lower.getgateL())\n",
    "\n",
    "reader.load(\"pch\")\n",
    "Mp_casc_upper.setgateL(1)\n",
    "Mp_casc_upper.setvdsrc(0.3)\n",
    "Mp_casc_upper_gmid_arr    = reader.get_axis(\"gmoverid\", Mp_casc_upper.getvdsrc(), Mp_casc_upper.getgateL())\n",
    "Mp_casc_upper_ft_arr      = reader.get_axis(\"ft\", Mp_casc_upper.getvdsrc(), Mp_casc_upper.getgateL())\n",
    "\n",
    "reader.load(\"pch\")\n",
    "Mp_casc_lower.setgateL(1)\n",
    "Mp_casc_lower.setvdsrc(0.3)\n",
    "Mp_casc_lower_gmid_arr    = reader.get_axis(\"gmoverid\", Mp_casc_lower.getvdsrc(), Mp_casc_lower.getgateL())\n",
    "Mp_casc_lower_ft_arr      = reader.get_axis(\"ft\", Mp_casc_lower.getvdsrc(), Mp_casc_lower.getgateL())\n",
    "\n",
    "reader.load(\"pch_25\")\n",
    "M_in.setgateL(1)\n",
    "M_in.setvdsrc(0.6)\n",
    "M_in_gmid_arr    = reader.get_axis(\"gmoverid\", M_in.getvdsrc(), M_in.getgateL())\n",
    "M_in_ft_arr      = reader.get_axis(\"ft\", M_in.getvdsrc(), M_in.getgateL())\n",
    "\n",
    "gmid_arrs = [Mn_casc_upper_gmid_arr, Mn_casc_lower_gmid_arr, Mp_casc_upper_gmid_arr, Mp_casc_lower_gmid_arr, M_in_gmid_arr]\n",
    "ft_arrs = [Mn_casc_upper_ft_arr, Mn_casc_lower_ft_arr, Mp_casc_upper_ft_arr, Mp_casc_lower_ft_arr, M_in_ft_arr]"
   ]
  },
  {
   "cell_type": "code",
   "execution_count": 19,
   "metadata": {},
   "outputs": [
    {
     "name": "stdout",
     "output_type": "stream",
     "text": [
      "3.9999999999999996e-05\n",
      "[19.69668518] [1.29796772e+08]\n",
      "3.9999999999999996e-05\n",
      "[19.69668518] [1.29796772e+08]\n",
      "3.9999999999999996e-05\n",
      "3.9999999999999996e-05\n",
      "3.9999999999999996e-05\n"
     ]
    },
    {
     "name": "stderr",
     "output_type": "stream",
     "text": [
      "C:\\Users\\techu\\AppData\\Local\\Temp\\ipykernel_22560\\289477212.py:5: DeprecationWarning: The truth value of an empty array is ambiguous. Returning False, but in future this will result in an error. Use `array.size > 0` to check that an array is not empty.\n",
      "  if gmid_arrs[i][j] < gmoverids[i]:\n"
     ]
    }
   ],
   "source": [
    "for i in range(0, len(gmoverids)):\n",
    "    gm = gmoverids[i] * id\n",
    "    for j in range(0, len(gmid_arrs[i])):\n",
    "        if gmid_arrs[i][j] < gmoverids[i]:\n",
    "            ft = ft_arrs[i][j]\n",
    "            print(gmid_arrs[i][j], ft_arrs[i][j])\n",
    "            break"
   ]
  },
  {
   "cell_type": "code",
   "execution_count": null,
   "metadata": {},
   "outputs": [],
   "source": []
  }
 ],
 "metadata": {
  "kernelspec": {
   "display_name": "base",
   "language": "python",
   "name": "python3"
  },
  "language_info": {
   "codemirror_mode": {
    "name": "ipython",
    "version": 3
   },
   "file_extension": ".py",
   "mimetype": "text/x-python",
   "name": "python",
   "nbconvert_exporter": "python",
   "pygments_lexer": "ipython3",
   "version": "3.12.1"
  }
 },
 "nbformat": 4,
 "nbformat_minor": 2
}
