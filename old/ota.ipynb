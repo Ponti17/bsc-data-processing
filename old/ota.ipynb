{
 "cells": [
  {
   "cell_type": "code",
   "execution_count": 2,
   "metadata": {},
   "outputs": [],
   "source": [
    "import numpy as np\n",
    "import matplotlib.pyplot as plt"
   ]
  },
  {
   "cell_type": "code",
   "execution_count": 31,
   "metadata": {},
   "outputs": [
    {
     "name": "stdout",
     "output_type": "stream",
     "text": [
      "gm1: 6.25e-05\n",
      "required ROUT: 1.60e+08\n",
      "GBW: 3.12e+08\n"
     ]
    }
   ],
   "source": [
    "# Step 1\n",
    "# Input maximum gm/id for input transistors\n",
    "\n",
    "ID = 5e-6\n",
    "BW = 1e3\n",
    "Av = 80 # dB\n",
    "CL = 200e-15\n",
    "\n",
    "# Convert Av to gain\n",
    "Av = 10**(Av/20)\n",
    "\n",
    "gmid_1 = 25\n",
    "gm_1 = gmid_1*ID/2\n",
    "\n",
    "def sci(num):\n",
    "    return \"{:.2e}\".format(num)\n",
    "\n",
    "Rout = Av/gm_1\n",
    "GBW = gm_1 / CL\n",
    "\n",
    "print(\"gm1: {}\".format(sci(gm_1)))\n",
    "print(\"required ROUT: {}\".format(sci(Rout)))\n",
    "print(\"GBW: {}\".format(sci(GBW)))"
   ]
  },
  {
   "cell_type": "code",
   "execution_count": 32,
   "metadata": {},
   "outputs": [
    {
     "name": "stdout",
     "output_type": "stream",
     "text": [
      "Dominant pole frequency: 4.97e+03\n",
      "required non-dominant pole frequency: 1.99e+05\n"
     ]
    }
   ],
   "source": [
    "# Step 2\n",
    "# Rout is given by ro6 || r08\n",
    "# Must fulfill Av both also poles\n",
    "\n",
    "# Dominant\n",
    "f1 = 1/(2*np.pi*Rout*CL)\n",
    "print(\"Dominant pole frequency: {}\".format(sci(f1)))\n",
    "\n",
    "# Non-Dominant poles MUST be high enough\n",
    "# f2 = gm3 / C3\n",
    "# f3 = gm3 / C3\n",
    "# f4 = gm7 / C7\n",
    "f_non = 20*np.log10(Av) / 20 * f1 * 10\n",
    "print(\"required non-dominant pole frequency: {}\".format(sci(f_non)))\n",
    "# fint ft"
   ]
  },
  {
   "cell_type": "code",
   "execution_count": 33,
   "metadata": {},
   "outputs": [
    {
     "name": "stdout",
     "output_type": "stream",
     "text": [
      "ro_n: 7.50e+08\n",
      "ro_p: 7.50e+08\n",
      "ro3||ro7 = 3.75e+08 HIGHER than 1.60e+08\n",
      "Actual gain: 87.4 dB\n"
     ]
    }
   ],
   "source": [
    "# Step 3\n",
    "# Find possible gm/id, gmro and ft\n",
    "\n",
    "cascoded = True\n",
    "\n",
    "gmid_3 = 5\n",
    "gm_3 = gmid_3*ID/2\n",
    "gmro_3 = 1.17e1\n",
    "ft_3 = 7.3e7\n",
    "W_3 = 1.14e-6\n",
    "L_3 = 5e-6\n",
    "\n",
    "gmid_cascn = 20\n",
    "gm_cascn = gmid_cascn*ID/2\n",
    "gmro_cascn = 8.01e2\n",
    "ft_cascn = 4.54e5\n",
    "W_cascn = 3.15e-4\n",
    "L_cascn = 20e-6\n",
    "\n",
    "gmid_cascp = 20\n",
    "gm_cascp = gmid_cascp*ID/2\n",
    "gmro_cascp = 1.72e3\n",
    "ft_cascp = 2.41e5\n",
    "W_cascp = 7.29e-4\n",
    "L_cascp = 20e-6\n",
    "\n",
    "gmid_7 = 5\n",
    "gm_7 = gmid_7*ID/2\n",
    "gmro_7 = 1.29e1\n",
    "ft_7 = 2.27e7\n",
    "W_7 = 4.14e-6\n",
    "L_7 = 5e-6\n",
    "\n",
    "def parallel(a, b):\n",
    "    return a*b/(a+b)\n",
    "\n",
    "# In a cascode stage M2 boosts the output impedance of M1\n",
    "# by a facor of gm2*ro2\n",
    "def cascode_rout(ro1, gm2, ro2):\n",
    "    return ro1 * gm2 * ro2\n",
    "\n",
    "def db(val):\n",
    "    return np.round(20*np.log10(val), 2)\n",
    "\n",
    "ro3 = gmro_3/gm_3\n",
    "ro7 = gmro_7/gm_7\n",
    "ro_cascn = gmro_cascn/gm_cascn\n",
    "ro_cascp = gmro_cascp/gm_cascp\n",
    "ro_n = cascode_rout(ro3, gm_cascn, ro_cascn)\n",
    "ro_p = cascode_rout(ro3, gm_cascn, ro_cascn)\n",
    "\n",
    "print(\"ro_n: {}\".format(sci(ro_n)))\n",
    "print(\"ro_p: {}\".format(sci(ro_p)))\n",
    "\n",
    "Rout_calc = parallel(ro_n, ro_p)\n",
    "\n",
    "if Rout_calc < Rout:\n",
    "    print(\"ro3||ro7 = {0} LOWER than {1}\".format(sci(Rout_calc), sci(Rout)))\n",
    "else:\n",
    "    print(\"ro3||ro7 = {0} HIGHER than {1}\".format(sci(Rout_calc), sci(Rout)))\n",
    "\n",
    "Av_new = db(Rout_calc*gm_1)\n",
    "print(\"Actual gain: {} dB\".format(Av_new))"
   ]
  },
  {
   "cell_type": "code",
   "execution_count": 34,
   "metadata": {},
   "outputs": [
    {
     "name": "stdout",
     "output_type": "stream",
     "text": [
      "Dominant pole frequency: 6.78e+01\n",
      "required non-dominant pole frequency: 1.59e+06\n",
      "Gain at 1k: 85.19 dB\n",
      "fp nmirror: 3.65e+07\n",
      "fp pmirror: 1.14e+07\n",
      "Max C3: 1.25e-12\n",
      "Max C7: 1.25e-12\n",
      "GBW: 9.97e+06\n"
     ]
    }
   ],
   "source": [
    "# Step 4\n",
    "# POLES\n",
    "\n",
    "# Determine actual CL from ft\n",
    "\n",
    "# Non-Dominant poles MUST be high enough\n",
    "# f2 = gm3 / C3\n",
    "# f3 = gm3 / C3\n",
    "# f4 = gm7 / C7\n",
    "\n",
    "cgg_3 = gm_3 / (2*np.pi*ft_3)\n",
    "cgg_7 = gm_7 / (2*np.pi*ft_7)\n",
    "cgg_cascn = gm_cascn / (2*np.pi*ft_cascn)\n",
    "cgg_cascp = gm_cascp / (2*np.pi*ft_cascp)\n",
    "\n",
    "# Estimate all capacitances\n",
    "caps_3 = {\n",
    "    \"cgg\": 0.0,\n",
    "    \"cgd\": 0.0,\n",
    "    \"cdd\": 0.0,\n",
    "    \"cdb\": 0.0,\n",
    "}\n",
    "caps_7 = {\n",
    "    \"cgg\": 0.0,\n",
    "    \"cgd\": 0.0,\n",
    "    \"cdd\": 0.0,\n",
    "    \"cdb\": 0.0,\n",
    "}\n",
    "caps_cascn = {\n",
    "    \"cgg\": 0.0,\n",
    "    \"cgd\": 0.0,\n",
    "    \"cdd\": 0.0,\n",
    "    \"cdb\": 0.0,\n",
    "}\n",
    "caps_cascp = {\n",
    "    \"cgg\": 0.0,\n",
    "    \"cgd\": 0.0,\n",
    "    \"cdd\": 0.0,\n",
    "    \"cdb\": 0.0,\n",
    "}\n",
    "def estimate_caps(caps, cgg):\n",
    "    for cap in caps:\n",
    "        match cap:\n",
    "            case \"cgg\":\n",
    "                caps[cap] = cgg\n",
    "            case \"cgd\":\n",
    "                caps[cap] = 0.24*cgg\n",
    "            case \"cdd\":\n",
    "                caps[cap] = 0.6*cgg\n",
    "            case \"cdb\":\n",
    "                caps[cap] = caps[\"cdd\"] - caps[\"cgd\"]\n",
    "    return caps\n",
    "                \n",
    "caps_3 = estimate_caps(caps_3, cgg_3)\n",
    "caps_7 = estimate_caps(caps_7, cgg_7)\n",
    "caps_cascn = estimate_caps(caps_cascn, cgg_cascn)\n",
    "caps_cascp = estimate_caps(caps_cascp, cgg_cascp)\n",
    "\n",
    "# Add parasitic output capacitances\n",
    "CL_new = CL + (caps_cascn[\"cgd\"]/2) + (caps_cascp[\"cgd\"]/2)\n",
    "\n",
    "# New dominant pole\n",
    "f1_new = 1/(2*np.pi*Rout_calc*CL_new)\n",
    "print(\"Dominant pole frequency: {}\".format(sci(f1_new)))\n",
    "\n",
    "# Extrapolate from dominate pole the approximate \n",
    "# minimum frequency for non-dominant\n",
    "f_non_new = f1_new * 10 **(Av_new / 20)\n",
    "print(\"required non-dominant pole frequency: {}\".format(sci(f_non_new)))\n",
    "\n",
    "# Determine gain at 1k from dominant pole\n",
    "decades_to_bww = np.log10(Av_new/f1_new)\n",
    "print(\"Gain at 1k: {} dB\".format(np.round(Av_new - np.abs(20*decades_to_bww), 2)))\n",
    "\n",
    "# Calculate non-dominant pole frequency\n",
    "# Remember there are 2 poles from nmos mirrors\n",
    "f_non_dom = gm_3 / (2*caps_3[\"cgg\"]*2*np.pi)\n",
    "print(\"fp nmirror: {}\".format(sci(f_non_dom)))\n",
    "\n",
    "f_non_dom_p = gm_7 / (2*caps_7[\"cgg\"]*2*np.pi)\n",
    "print(\"fp pmirror: {}\".format(sci(f_non_dom_p)))\n",
    "\n",
    "# Maximum C\n",
    "max_C3 = gm_3 / (2*np.pi*f_non_new)\n",
    "max_C7 = gm_7 / (2*np.pi*f_non_new)\n",
    "print(\"Max C3: {}\".format(sci(max_C3)))\n",
    "print(\"Max C7: {}\".format(sci(max_C7)))\n",
    "\n",
    "GBW_calc = gm_1 / CL_new\n",
    "print(\"GBW: {}\".format(sci(GBW_calc)))"
   ]
  },
  {
   "cell_type": "code",
   "execution_count": 20,
   "metadata": {},
   "outputs": [
    {
     "data": {
      "text/plain": [
       "7.999999999999999e-05"
      ]
     },
     "execution_count": 20,
     "metadata": {},
     "output_type": "execute_result"
    }
   ],
   "source": [
    "gm_3"
   ]
  },
  {
   "cell_type": "code",
   "execution_count": 19,
   "metadata": {},
   "outputs": [
    {
     "data": {
      "text/plain": [
       "{'cgg': 1.5955382766104797e-11,\n",
       " 'cgd': 3.829291863865151e-12,\n",
       " 'cdd': 9.573229659662877e-12,\n",
       " 'cdb': 5.743937795797726e-12}"
      ]
     },
     "execution_count": 19,
     "metadata": {},
     "output_type": "execute_result"
    }
   ],
   "source": [
    "caps_3"
   ]
  },
  {
   "cell_type": "code",
   "execution_count": 27,
   "metadata": {},
   "outputs": [
    {
     "data": {
      "text/plain": [
       "3e-05"
      ]
     },
     "execution_count": 27,
     "metadata": {},
     "output_type": "execute_result"
    }
   ],
   "source": [
    "gm_3"
   ]
  },
  {
   "cell_type": "code",
   "execution_count": 28,
   "metadata": {},
   "outputs": [
    {
     "data": {
      "text/plain": [
       "{'cgg': 5.983268537289299e-12,\n",
       " 'cgd': 1.4359844489494318e-12,\n",
       " 'cdd': 3.5899611223735796e-12,\n",
       " 'cdb': 2.1539766734241476e-12}"
      ]
     },
     "execution_count": 28,
     "metadata": {},
     "output_type": "execute_result"
    }
   ],
   "source": [
    "caps_3"
   ]
  },
  {
   "cell_type": "code",
   "execution_count": null,
   "metadata": {},
   "outputs": [],
   "source": []
  }
 ],
 "metadata": {
  "kernelspec": {
   "display_name": "base",
   "language": "python",
   "name": "python3"
  },
  "language_info": {
   "codemirror_mode": {
    "name": "ipython",
    "version": 3
   },
   "file_extension": ".py",
   "mimetype": "text/x-python",
   "name": "python",
   "nbconvert_exporter": "python",
   "pygments_lexer": "ipython3",
   "version": "3.12.2"
  }
 },
 "nbformat": 4,
 "nbformat_minor": 2
}
