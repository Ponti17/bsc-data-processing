{
 "cells": [
  {
   "cell_type": "code",
   "execution_count": null,
   "metadata": {},
   "outputs": [],
   "source": [
    "import numpy as np\n",
    "\n",
    "mean = np.array([10.05, 10.05, 10.04, 10.03, 10.07])\n",
    "std_dev = np.array([1.117, 713.1, 1.264, 761.1, 674.4])\n",
    "\n",
    "for i in range(len(mean))"
   ]
  }
 ],
 "metadata": {
  "language_info": {
   "name": "python"
  }
 },
 "nbformat": 4,
 "nbformat_minor": 2
}
