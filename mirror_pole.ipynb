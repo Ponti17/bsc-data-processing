{
 "cells": [
  {
   "cell_type": "code",
   "execution_count": 1,
   "metadata": {},
   "outputs": [],
   "source": [
    "import pandas as pd\n",
    "import numpy as np\n",
    "import matplotlib.pyplot as plt\n",
    "import os\n",
    "from _handledata import DataHandler\n",
    "from _plot import Plot"
   ]
  },
  {
   "cell_type": "code",
   "execution_count": 67,
   "metadata": {},
   "outputs": [
    {
     "name": "stdout",
     "output_type": "stream",
     "text": [
      "gmid [5, 6, 7, 8, 9, 10, 11, 12, 13, 14, 15, 16, 17, 18, 19, 20, 21, 22, 23, 24, 25]\n",
      "pole ['8.41e+06', '7.24e+06', '6.25e+06', '5.22e+06', '4.43e+06', '3.91e+06', '3.40e+06', '2.90e+06', '2.43e+06', '1.99e+06', '1.79e+06', '1.60e+06', '1.25e+06', '1.09e+06', '9.49e+05', '8.19e+05', '7.01e+05', '5.96e+05', '4.19e+05', '3.47e+05', '2.85e+05']\n",
      "w ['2.31e-05', '3.20e-05', '4.33e-05', '6.14e-05', '8.31e-05', '1.04e-04', '1.33e-04', '1.73e-04', '2.32e-04', '3.20e-04', '3.80e-04', '4.55e-04', '6.70e-04', '8.25e-04', '1.02e-03', '1.29e-03', '1.63e-03', '2.09e-03', '3.55e-03', '4.70e-03', '6.29e-03']\n"
     ]
    },
    {
     "name": "stderr",
     "output_type": "stream",
     "text": [
      "C:\\Users\\techu\\AppData\\Local\\Temp\\ipykernel_3024\\1091821667.py:32: DeprecationWarning: Conversion of an array with ndim > 0 to a scalar is deprecated, and will error in future. Ensure you extract a single element from your array before performing this operation. (Deprecated NumPy 1.25.)\n",
      "  vals[\"pole\"].append(\"{:.2e}\".format(float(pole)))\n",
      "C:\\Users\\techu\\AppData\\Local\\Temp\\ipykernel_3024\\1091821667.py:33: DeprecationWarning: Conversion of an array with ndim > 0 to a scalar is deprecated, and will error in future. Ensure you extract a single element from your array before performing this operation. (Deprecated NumPy 1.25.)\n",
      "  vals[\"w\"].append(\"{:.2e}\".format(float(w)))\n"
     ]
    }
   ],
   "source": [
    "reader = DataHandler()\n",
    "mos = Plot()\n",
    "\n",
    "reader.load(\"nch\")\n",
    "\n",
    "id = 50e-6\n",
    "gateL = 10\n",
    "vdsrc = 0.6\n",
    "fp = 10e6\n",
    "mos.setgateL(gateL)\n",
    "mos.setvdsrc(vdsrc)\n",
    "gmid_arr    = reader.get_axis(\"gmoverid\", mos.getvdsrc(), mos.getgateL())\n",
    "ft_arr      = reader.get_axis(\"ft\", mos.getvdsrc(), mos.getgateL())\n",
    "idw_arr     = reader.get_axis(\"id/w\", mos.getvdsrc(), mos.getgateL())\n",
    "\n",
    "vals = {\n",
    "    \"gmid\": [],\n",
    "    \"pole\": [],\n",
    "    \"w\": []\n",
    "}\n",
    "for gmid in range(5, 26):\n",
    "    gm = gmid * id\n",
    "    for i in range(0, len(gmid_arr)):\n",
    "        if gmid_arr[i] < gmid:\n",
    "            ft = ft_arr[i]\n",
    "            idw = idw_arr[i]\n",
    "            break\n",
    "    cgg = 2*(gm / (2*np.pi*ft))\n",
    "    pole = gm / (2*np.pi*cgg)\n",
    "    w = id / idw\n",
    "    vals[\"gmid\"].append(gmid)\n",
    "    vals[\"pole\"].append(\"{:.2e}\".format(float(pole)))\n",
    "    vals[\"w\"].append(\"{:.2e}\".format(float(w)))\n",
    "\n",
    "for key in vals:\n",
    "    print(key, vals[key])"
   ]
  },
  {
   "cell_type": "code",
   "execution_count": null,
   "metadata": {},
   "outputs": [],
   "source": [
    "for key in vals:\n",
    "    print(key, vals[key])"
   ]
  }
 ],
 "metadata": {
  "kernelspec": {
   "display_name": "Python 3",
   "language": "python",
   "name": "python3"
  },
  "language_info": {
   "codemirror_mode": {
    "name": "ipython",
    "version": 3
   },
   "file_extension": ".py",
   "mimetype": "text/x-python",
   "name": "python",
   "nbconvert_exporter": "python",
   "pygments_lexer": "ipython3",
   "version": "3.12.2"
  }
 },
 "nbformat": 4,
 "nbformat_minor": 2
}
